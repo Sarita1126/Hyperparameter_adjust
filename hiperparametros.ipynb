{
 "cells": [
  {
   "cell_type": "code",
   "execution_count": 1,
   "id": "371add2c",
   "metadata": {},
   "outputs": [
    {
     "name": "stdout",
     "output_type": "stream",
     "text": [
      "Requirement already satisfied: optuna in c:\\users\\zarim\\appdata\\local\\programs\\python\\python313\\lib\\site-packages (4.5.0)\n",
      "Requirement already satisfied: alembic>=1.5.0 in c:\\users\\zarim\\appdata\\local\\programs\\python\\python313\\lib\\site-packages (from optuna) (1.17.1)\n",
      "Requirement already satisfied: colorlog in c:\\users\\zarim\\appdata\\local\\programs\\python\\python313\\lib\\site-packages (from optuna) (6.10.1)\n",
      "Requirement already satisfied: numpy in c:\\users\\zarim\\appdata\\local\\programs\\python\\python313\\lib\\site-packages (from optuna) (2.2.4)\n",
      "Requirement already satisfied: packaging>=20.0 in c:\\users\\zarim\\appdata\\roaming\\python\\python313\\site-packages (from optuna) (24.2)\n",
      "Requirement already satisfied: sqlalchemy>=1.4.2 in c:\\users\\zarim\\appdata\\local\\programs\\python\\python313\\lib\\site-packages (from optuna) (2.0.44)\n",
      "Requirement already satisfied: tqdm in c:\\users\\zarim\\appdata\\local\\programs\\python\\python313\\lib\\site-packages (from optuna) (4.67.1)\n",
      "Requirement already satisfied: PyYAML in c:\\users\\zarim\\appdata\\local\\programs\\python\\python313\\lib\\site-packages (from optuna) (6.0.3)\n",
      "Requirement already satisfied: Mako in c:\\users\\zarim\\appdata\\local\\programs\\python\\python313\\lib\\site-packages (from alembic>=1.5.0->optuna) (1.3.10)\n",
      "Requirement already satisfied: typing-extensions>=4.12 in c:\\users\\zarim\\appdata\\local\\programs\\python\\python313\\lib\\site-packages (from alembic>=1.5.0->optuna) (4.15.0)\n",
      "Requirement already satisfied: greenlet>=1 in c:\\users\\zarim\\appdata\\local\\programs\\python\\python313\\lib\\site-packages (from sqlalchemy>=1.4.2->optuna) (3.2.4)\n",
      "Requirement already satisfied: colorama in c:\\users\\zarim\\appdata\\roaming\\python\\python313\\site-packages (from colorlog->optuna) (0.4.6)\n",
      "Requirement already satisfied: MarkupSafe>=0.9.2 in c:\\users\\zarim\\appdata\\local\\programs\\python\\python313\\lib\\site-packages (from Mako->alembic>=1.5.0->optuna) (3.0.3)\n",
      "Note: you may need to restart the kernel to use updated packages.\n"
     ]
    },
    {
     "name": "stderr",
     "output_type": "stream",
     "text": [
      "\n",
      "[notice] A new release of pip is available: 24.3.1 -> 25.3\n",
      "[notice] To update, run: python.exe -m pip install --upgrade pip\n"
     ]
    }
   ],
   "source": [
    "pip install optuna"
   ]
  },
  {
   "cell_type": "code",
   "execution_count": 2,
   "id": "fbcd6542",
   "metadata": {},
   "outputs": [
    {
     "name": "stderr",
     "output_type": "stream",
     "text": [
      "c:\\Users\\zarim\\AppData\\Local\\Programs\\Python\\Python313\\Lib\\site-packages\\tqdm\\auto.py:21: TqdmWarning: IProgress not found. Please update jupyter and ipywidgets. See https://ipywidgets.readthedocs.io/en/stable/user_install.html\n",
      "  from .autonotebook import tqdm as notebook_tqdm\n"
     ]
    }
   ],
   "source": [
    "import pandas as pd\n",
    "import numpy as np\n",
    "import matplotlib.pyplot as plt\n",
    "import seaborn as sns\n",
    "from sklearn.model_selection import train_test_split, RandomizedSearchCV, cross_val_score\n",
    "from sklearn.preprocessing import StandardScaler\n",
    "from sklearn.pipeline import Pipeline\n",
    "from sklearn.ensemble import RandomForestClassifier\n",
    "from sklearn.metrics import roc_auc_score, roc_curve, confusion_matrix, ConfusionMatrixDisplay\n",
    "import warnings\n",
    "import optuna\n",
    "warnings.filterwarnings('ignore')"
   ]
  },
  {
   "cell_type": "code",
   "execution_count": 3,
   "id": "5d3a9d98",
   "metadata": {},
   "outputs": [
    {
     "data": {
      "text/html": [
       "<div>\n",
       "<style scoped>\n",
       "    .dataframe tbody tr th:only-of-type {\n",
       "        vertical-align: middle;\n",
       "    }\n",
       "\n",
       "    .dataframe tbody tr th {\n",
       "        vertical-align: top;\n",
       "    }\n",
       "\n",
       "    .dataframe thead th {\n",
       "        text-align: right;\n",
       "    }\n",
       "</style>\n",
       "<table border=\"1\" class=\"dataframe\">\n",
       "  <thead>\n",
       "    <tr style=\"text-align: right;\">\n",
       "      <th></th>\n",
       "      <th>longitude</th>\n",
       "      <th>latitude</th>\n",
       "      <th>housing_median_age</th>\n",
       "      <th>total_rooms</th>\n",
       "      <th>total_bedrooms</th>\n",
       "      <th>population</th>\n",
       "      <th>households</th>\n",
       "      <th>median_income</th>\n",
       "      <th>median_house_value</th>\n",
       "      <th>ocean_proximity</th>\n",
       "    </tr>\n",
       "  </thead>\n",
       "  <tbody>\n",
       "    <tr>\n",
       "      <th>0</th>\n",
       "      <td>-122.23</td>\n",
       "      <td>37.88</td>\n",
       "      <td>41.0</td>\n",
       "      <td>880.0</td>\n",
       "      <td>129.0</td>\n",
       "      <td>322.0</td>\n",
       "      <td>126.0</td>\n",
       "      <td>8.3252</td>\n",
       "      <td>452600.0</td>\n",
       "      <td>NEAR BAY</td>\n",
       "    </tr>\n",
       "    <tr>\n",
       "      <th>1</th>\n",
       "      <td>-122.22</td>\n",
       "      <td>37.86</td>\n",
       "      <td>21.0</td>\n",
       "      <td>7099.0</td>\n",
       "      <td>1106.0</td>\n",
       "      <td>2401.0</td>\n",
       "      <td>1138.0</td>\n",
       "      <td>8.3014</td>\n",
       "      <td>358500.0</td>\n",
       "      <td>NEAR BAY</td>\n",
       "    </tr>\n",
       "    <tr>\n",
       "      <th>2</th>\n",
       "      <td>-122.24</td>\n",
       "      <td>37.85</td>\n",
       "      <td>52.0</td>\n",
       "      <td>1467.0</td>\n",
       "      <td>190.0</td>\n",
       "      <td>496.0</td>\n",
       "      <td>177.0</td>\n",
       "      <td>7.2574</td>\n",
       "      <td>352100.0</td>\n",
       "      <td>NEAR BAY</td>\n",
       "    </tr>\n",
       "    <tr>\n",
       "      <th>3</th>\n",
       "      <td>-122.25</td>\n",
       "      <td>37.85</td>\n",
       "      <td>52.0</td>\n",
       "      <td>1274.0</td>\n",
       "      <td>235.0</td>\n",
       "      <td>558.0</td>\n",
       "      <td>219.0</td>\n",
       "      <td>5.6431</td>\n",
       "      <td>341300.0</td>\n",
       "      <td>NEAR BAY</td>\n",
       "    </tr>\n",
       "    <tr>\n",
       "      <th>4</th>\n",
       "      <td>-122.25</td>\n",
       "      <td>37.85</td>\n",
       "      <td>52.0</td>\n",
       "      <td>1627.0</td>\n",
       "      <td>280.0</td>\n",
       "      <td>565.0</td>\n",
       "      <td>259.0</td>\n",
       "      <td>3.8462</td>\n",
       "      <td>342200.0</td>\n",
       "      <td>NEAR BAY</td>\n",
       "    </tr>\n",
       "  </tbody>\n",
       "</table>\n",
       "</div>"
      ],
      "text/plain": [
       "   longitude  latitude  housing_median_age  total_rooms  total_bedrooms  \\\n",
       "0    -122.23     37.88                41.0        880.0           129.0   \n",
       "1    -122.22     37.86                21.0       7099.0          1106.0   \n",
       "2    -122.24     37.85                52.0       1467.0           190.0   \n",
       "3    -122.25     37.85                52.0       1274.0           235.0   \n",
       "4    -122.25     37.85                52.0       1627.0           280.0   \n",
       "\n",
       "   population  households  median_income  median_house_value ocean_proximity  \n",
       "0       322.0       126.0         8.3252            452600.0        NEAR BAY  \n",
       "1      2401.0      1138.0         8.3014            358500.0        NEAR BAY  \n",
       "2       496.0       177.0         7.2574            352100.0        NEAR BAY  \n",
       "3       558.0       219.0         5.6431            341300.0        NEAR BAY  \n",
       "4       565.0       259.0         3.8462            342200.0        NEAR BAY  "
      ]
     },
     "execution_count": 3,
     "metadata": {},
     "output_type": "execute_result"
    }
   ],
   "source": [
    "# Cargar dataset (ajusta la ruta si es necesario)\n",
    "df = pd.read_csv(\"housing.csv\")   # o el nombre que tenga tu archivo\n",
    "df.head()"
   ]
  },
  {
   "cell_type": "markdown",
   "id": "805baf3f",
   "metadata": {},
   "source": [
    "*Cada fila representa un bloque o zona residencial en California, con información geográfica, estructural y socioeconómica:*\n",
    "   - *longitude y latitude: ubican geográficamente cada zona.*\n",
    "   - *housing_median_age: antigüedad promedio de las viviendas del bloque.*\n",
    "   - *total_rooms, total_bedrooms, population, households: describen el tamaño y la densidad del área.*\n",
    "   - *median_income: ingreso medio de los hogares (en decenas de miles de USD).*\n",
    "   - *median_house_value: valor medio de las viviendas, que es la variable objetivo del modelo.*\n",
    "   - *ocean_proximity: indica la distancia al océano, factor geográfico importante en la valoración inmobiliaria.*\n",
    "\n",
    "En conjunto, estos datos ofrecen una descripción completa de las características demográficas, espaciales y económicas necesarias para predecir el precio medio de las viviendas."
   ]
  },
  {
   "cell_type": "code",
   "execution_count": 4,
   "id": "b086917f",
   "metadata": {},
   "outputs": [
    {
     "name": "stdout",
     "output_type": "stream",
     "text": [
      "<class 'pandas.core.frame.DataFrame'>\n",
      "RangeIndex: 20640 entries, 0 to 20639\n",
      "Data columns (total 10 columns):\n",
      " #   Column              Non-Null Count  Dtype  \n",
      "---  ------              --------------  -----  \n",
      " 0   longitude           20640 non-null  float64\n",
      " 1   latitude            20640 non-null  float64\n",
      " 2   housing_median_age  20640 non-null  float64\n",
      " 3   total_rooms         20640 non-null  float64\n",
      " 4   total_bedrooms      20433 non-null  float64\n",
      " 5   population          20640 non-null  float64\n",
      " 6   households          20640 non-null  float64\n",
      " 7   median_income       20640 non-null  float64\n",
      " 8   median_house_value  20640 non-null  float64\n",
      " 9   ocean_proximity     20640 non-null  object \n",
      "dtypes: float64(9), object(1)\n",
      "memory usage: 1.6+ MB\n"
     ]
    }
   ],
   "source": [
    "# Información general\n",
    "df.info()"
   ]
  },
  {
   "cell_type": "code",
   "execution_count": 5,
   "id": "4e5f135e",
   "metadata": {},
   "outputs": [
    {
     "data": {
      "text/plain": [
       "longitude               0\n",
       "latitude                0\n",
       "housing_median_age      0\n",
       "total_rooms             0\n",
       "total_bedrooms        207\n",
       "population              0\n",
       "households              0\n",
       "median_income           0\n",
       "median_house_value      0\n",
       "ocean_proximity         0\n",
       "dtype: int64"
      ]
     },
     "execution_count": 5,
     "metadata": {},
     "output_type": "execute_result"
    }
   ],
   "source": [
    "# Ver valores faltantes\n",
    "df.isna().sum()\n"
   ]
  },
  {
   "cell_type": "code",
   "execution_count": 6,
   "id": "8d2e0372",
   "metadata": {},
   "outputs": [],
   "source": [
    "# Rellenar los valores faltantes con la mediana\n",
    "df[\"total_bedrooms\"] = df[\"total_bedrooms\"].fillna(df[\"total_bedrooms\"].median())\n"
   ]
  },
  {
   "cell_type": "code",
   "execution_count": 7,
   "id": "c2837594",
   "metadata": {},
   "outputs": [
    {
     "data": {
      "text/plain": [
       "longitude             0\n",
       "latitude              0\n",
       "housing_median_age    0\n",
       "total_rooms           0\n",
       "total_bedrooms        0\n",
       "population            0\n",
       "households            0\n",
       "median_income         0\n",
       "median_house_value    0\n",
       "ocean_proximity       0\n",
       "dtype: int64"
      ]
     },
     "execution_count": 7,
     "metadata": {},
     "output_type": "execute_result"
    }
   ],
   "source": [
    "df.isna().sum()"
   ]
  },
  {
   "cell_type": "code",
   "execution_count": 8,
   "id": "a01bdd12",
   "metadata": {},
   "outputs": [
    {
     "data": {
      "text/html": [
       "<div>\n",
       "<style scoped>\n",
       "    .dataframe tbody tr th:only-of-type {\n",
       "        vertical-align: middle;\n",
       "    }\n",
       "\n",
       "    .dataframe tbody tr th {\n",
       "        vertical-align: top;\n",
       "    }\n",
       "\n",
       "    .dataframe thead th {\n",
       "        text-align: right;\n",
       "    }\n",
       "</style>\n",
       "<table border=\"1\" class=\"dataframe\">\n",
       "  <thead>\n",
       "    <tr style=\"text-align: right;\">\n",
       "      <th></th>\n",
       "      <th>count</th>\n",
       "      <th>mean</th>\n",
       "      <th>std</th>\n",
       "      <th>min</th>\n",
       "      <th>25%</th>\n",
       "      <th>50%</th>\n",
       "      <th>75%</th>\n",
       "      <th>max</th>\n",
       "    </tr>\n",
       "  </thead>\n",
       "  <tbody>\n",
       "    <tr>\n",
       "      <th>longitude</th>\n",
       "      <td>20640.0</td>\n",
       "      <td>-119.569704</td>\n",
       "      <td>2.003532</td>\n",
       "      <td>-124.3500</td>\n",
       "      <td>-121.8000</td>\n",
       "      <td>-118.4900</td>\n",
       "      <td>-118.01000</td>\n",
       "      <td>-114.3100</td>\n",
       "    </tr>\n",
       "    <tr>\n",
       "      <th>latitude</th>\n",
       "      <td>20640.0</td>\n",
       "      <td>35.631861</td>\n",
       "      <td>2.135952</td>\n",
       "      <td>32.5400</td>\n",
       "      <td>33.9300</td>\n",
       "      <td>34.2600</td>\n",
       "      <td>37.71000</td>\n",
       "      <td>41.9500</td>\n",
       "    </tr>\n",
       "    <tr>\n",
       "      <th>housing_median_age</th>\n",
       "      <td>20640.0</td>\n",
       "      <td>28.639486</td>\n",
       "      <td>12.585558</td>\n",
       "      <td>1.0000</td>\n",
       "      <td>18.0000</td>\n",
       "      <td>29.0000</td>\n",
       "      <td>37.00000</td>\n",
       "      <td>52.0000</td>\n",
       "    </tr>\n",
       "    <tr>\n",
       "      <th>total_rooms</th>\n",
       "      <td>20640.0</td>\n",
       "      <td>2635.763081</td>\n",
       "      <td>2181.615252</td>\n",
       "      <td>2.0000</td>\n",
       "      <td>1447.7500</td>\n",
       "      <td>2127.0000</td>\n",
       "      <td>3148.00000</td>\n",
       "      <td>39320.0000</td>\n",
       "    </tr>\n",
       "    <tr>\n",
       "      <th>total_bedrooms</th>\n",
       "      <td>20640.0</td>\n",
       "      <td>536.838857</td>\n",
       "      <td>419.391878</td>\n",
       "      <td>1.0000</td>\n",
       "      <td>297.0000</td>\n",
       "      <td>435.0000</td>\n",
       "      <td>643.25000</td>\n",
       "      <td>6445.0000</td>\n",
       "    </tr>\n",
       "    <tr>\n",
       "      <th>population</th>\n",
       "      <td>20640.0</td>\n",
       "      <td>1425.476744</td>\n",
       "      <td>1132.462122</td>\n",
       "      <td>3.0000</td>\n",
       "      <td>787.0000</td>\n",
       "      <td>1166.0000</td>\n",
       "      <td>1725.00000</td>\n",
       "      <td>35682.0000</td>\n",
       "    </tr>\n",
       "    <tr>\n",
       "      <th>households</th>\n",
       "      <td>20640.0</td>\n",
       "      <td>499.539680</td>\n",
       "      <td>382.329753</td>\n",
       "      <td>1.0000</td>\n",
       "      <td>280.0000</td>\n",
       "      <td>409.0000</td>\n",
       "      <td>605.00000</td>\n",
       "      <td>6082.0000</td>\n",
       "    </tr>\n",
       "    <tr>\n",
       "      <th>median_income</th>\n",
       "      <td>20640.0</td>\n",
       "      <td>3.870671</td>\n",
       "      <td>1.899822</td>\n",
       "      <td>0.4999</td>\n",
       "      <td>2.5634</td>\n",
       "      <td>3.5348</td>\n",
       "      <td>4.74325</td>\n",
       "      <td>15.0001</td>\n",
       "    </tr>\n",
       "    <tr>\n",
       "      <th>median_house_value</th>\n",
       "      <td>20640.0</td>\n",
       "      <td>206855.816909</td>\n",
       "      <td>115395.615874</td>\n",
       "      <td>14999.0000</td>\n",
       "      <td>119600.0000</td>\n",
       "      <td>179700.0000</td>\n",
       "      <td>264725.00000</td>\n",
       "      <td>500001.0000</td>\n",
       "    </tr>\n",
       "  </tbody>\n",
       "</table>\n",
       "</div>"
      ],
      "text/plain": [
       "                      count           mean            std         min  \\\n",
       "longitude           20640.0    -119.569704       2.003532   -124.3500   \n",
       "latitude            20640.0      35.631861       2.135952     32.5400   \n",
       "housing_median_age  20640.0      28.639486      12.585558      1.0000   \n",
       "total_rooms         20640.0    2635.763081    2181.615252      2.0000   \n",
       "total_bedrooms      20640.0     536.838857     419.391878      1.0000   \n",
       "population          20640.0    1425.476744    1132.462122      3.0000   \n",
       "households          20640.0     499.539680     382.329753      1.0000   \n",
       "median_income       20640.0       3.870671       1.899822      0.4999   \n",
       "median_house_value  20640.0  206855.816909  115395.615874  14999.0000   \n",
       "\n",
       "                            25%          50%           75%          max  \n",
       "longitude             -121.8000    -118.4900    -118.01000    -114.3100  \n",
       "latitude                33.9300      34.2600      37.71000      41.9500  \n",
       "housing_median_age      18.0000      29.0000      37.00000      52.0000  \n",
       "total_rooms           1447.7500    2127.0000    3148.00000   39320.0000  \n",
       "total_bedrooms         297.0000     435.0000     643.25000    6445.0000  \n",
       "population             787.0000    1166.0000    1725.00000   35682.0000  \n",
       "households             280.0000     409.0000     605.00000    6082.0000  \n",
       "median_income            2.5634       3.5348       4.74325      15.0001  \n",
       "median_house_value  119600.0000  179700.0000  264725.00000  500001.0000  "
      ]
     },
     "execution_count": 8,
     "metadata": {},
     "output_type": "execute_result"
    }
   ],
   "source": [
    "# Descripción estadística\n",
    "df.describe().T"
   ]
  },
  {
   "cell_type": "markdown",
   "id": "482124b4",
   "metadata": {},
   "source": [
    "*El conjunto tiene 20 640 observaciones y muestra una gran variabilidad en las características de las viviendas:*\n",
    "   - *El valor medio de las casas (median_house_value) es de 206 856 USD, con una dispersión alta (desviación estándar ≈ 115 396).*\n",
    "   - *El ingreso medio (median_income) es de 3.87, con valores entre 0.49 y 15, reflejando la diversidad socioeconómica de las zonas.*\n",
    "   - *Las variables total_rooms y population muestran una alta desviación estándar, indicando gran heterogeneidad en el tamaño de las viviendas y densidad poblacional.*\n",
    "   - *La edad promedio de las viviendas (housing_median_age) es de 28.6 años, con un máximo de 52 años, lo que evidencia una mezcla de barrios nuevos y antiguos.*\n",
    "   \n",
    "*En conjunto, las estadísticas confirman que los datos presentan alta variabilidad, lo que justifica el uso de modelos robustos como Random Forest para la predicción del valor de las viviendas.*"
   ]
  },
  {
   "cell_type": "code",
   "execution_count": 9,
   "id": "8ccd62e2",
   "metadata": {},
   "outputs": [
    {
     "data": {
      "image/png": "[encoded data removed]",
      "text/plain": [
       "<Figure size 600x400 with 1 Axes>"
      ]
     },
     "metadata": {},
     "output_type": "display_data"
    }
   ],
   "source": [
    "# Distribución de la variable objetivo\n",
    "plt.figure(figsize=(6,4))\n",
    "sns.histplot(df[\"median_house_value\"], kde=True, color=\"royalblue\")\n",
    "plt.title(\"Distribución de median_house_value\")\n",
    "plt.xlabel(\"Valor medio de las casas (USD)\")\n",
    "plt.show()"
   ]
  },
  {
   "cell_type": "markdown",
   "id": "313ec9ad",
   "metadata": {},
   "source": [
    "*La distribución es asimétrica a la derecha (sesgo positivo): la mayoría de las viviendas se concentran entre 100 000 y 250 000 USD, mientras que hay una cola larga hacia valores más altos.*\n",
    "*Se nota un pico abrupto en 500 000 USD, que corresponde a un límite máximo en el dataset (cap de precios en los datos originales).*\n",
    "*Esto indica que los precios de vivienda están sesgados hacia valores bajos y medios, con pocas viviendas de alto valor.*"
   ]
  },
  {
   "cell_type": "code",
   "execution_count": 10,
   "id": "e9ed5ec9",
   "metadata": {},
   "outputs": [
    {
     "name": "stdout",
     "output_type": "stream",
     "text": [
      "<class 'pandas.core.frame.DataFrame'>\n",
      "RangeIndex: 20640 entries, 0 to 20639\n",
      "Data columns (total 9 columns):\n",
      " #   Column              Non-Null Count  Dtype  \n",
      "---  ------              --------------  -----  \n",
      " 0   longitude           20640 non-null  float64\n",
      " 1   latitude            20640 non-null  float64\n",
      " 2   housing_median_age  20640 non-null  float64\n",
      " 3   total_rooms         20640 non-null  float64\n",
      " 4   total_bedrooms      20640 non-null  float64\n",
      " 5   population          20640 non-null  float64\n",
      " 6   households          20640 non-null  float64\n",
      " 7   median_income       20640 non-null  float64\n",
      " 8   median_house_value  20640 non-null  float64\n",
      "dtypes: float64(9)\n",
      "memory usage: 1.4 MB\n"
     ]
    }
   ],
   "source": [
    "# Eliminamos variable categórica\n",
    "df = df.drop(\"ocean_proximity\", axis=1)\n",
    "\n",
    "# Verificamos tipos\n",
    "df.info()"
   ]
  },
  {
   "cell_type": "code",
   "execution_count": 34,
   "id": "7a2d958d",
   "metadata": {},
   "outputs": [
    {
     "name": "stdout",
     "output_type": "stream",
     "text": [
      "Top 10 variables más correlacionadas con medium house value:\n",
      "median_house_value    1.000000\n",
      "median_income         0.688075\n",
      "total_rooms           0.134153\n",
      "housing_median_age    0.105623\n",
      "households            0.065843\n",
      "total_bedrooms        0.049457\n",
      "population           -0.024650\n",
      "longitude            -0.045967\n",
      "latitude             -0.144160\n",
      "Name: median_house_value, dtype: float64\n"
     ]
    },
    {
     "data": {
      "image/png": "[encoded data removed]",
      "text/plain": [
       "<Figure size 1000x800 with 2 Axes>"
      ]
     },
     "metadata": {},
     "output_type": "display_data"
    }
   ],
   "source": [
    "correlation = df.corr()['median_house_value'].sort_values(ascending=False)\n",
    "print(\"Top 10 variables más correlacionadas con medium house value:\")\n",
    "print(correlation.head(11))\n",
    "\n",
    "# Heatmap de top 10 correlaciones\n",
    "top_corr = correlation.head(11).index\n",
    "plt.figure(figsize=(10, 8))\n",
    "sns.heatmap(df[top_corr].corr(), annot=True, cmap='Reds')\n",
    "plt.title(\"Matriz de Correlación – Top variables relacionadas con medium house value\")\n",
    "plt.show()"
   ]
  },
  {
   "cell_type": "markdown",
   "id": "be05773f",
   "metadata": {},
   "source": [
    "*Se observa que la variable median_income presenta la mayor correlación positiva con el valor medio de las viviendas (≈ 0.69), lo que confirma que el ingreso medio es el factor más determinante del precio.*\n",
    "*Las variables relacionadas con el tamaño del hogar (total_rooms, households, total_bedrooms, population) muestran alta correlación entre sí, lo que sugiere colinealidad.*\n",
    "*Por otro lado, latitude y longitude presentan correlaciones negativas moderadas, indicando que la ubicación geográfica también influye, aunque en menor medida.*"
   ]
  },
  {
   "cell_type": "code",
   "execution_count": 40,
   "id": "c7e3e304",
   "metadata": {},
   "outputs": [
    {
     "data": {
      "image/png": "[encoded data removed]",
      "text/plain": [
       "<Figure size 800x500 with 1 Axes>"
      ]
     },
     "metadata": {},
     "output_type": "display_data"
    }
   ],
   "source": [
    "# Crear grupos de ingreso\n",
    "df['income_group'] = pd.cut(\n",
    "    df['median_income'],\n",
    "    bins=[0, 2, 4, 6, 8, 20],\n",
    "    labels=['Muy bajo', 'Bajo', 'Medio', 'Alto', 'Muy alto']\n",
    ")\n",
    "\n",
    "plt.figure(figsize=(8,5))\n",
    "sns.boxplot(x='income_group', y='median_house_value', data=df, palette='brg')\n",
    "plt.title('Valor de vivienda vs grupo de ingreso')\n",
    "plt.xlabel('Grupo de ingreso')\n",
    "plt.ylabel('Valor medio de vivienda (USD)')\n",
    "plt.show()"
   ]
  },
  {
   "cell_type": "markdown",
   "id": "59821665",
   "metadata": {},
   "source": [
    "*Existe una relación positiva clara entre el nivel de ingreso y el valor medio de las viviendas.*\n",
    "*A medida que el grupo de ingreso pasa de “Muy bajo” a “Muy alto”, el valor de las casas aumenta significativamente y la dispersión también crece, indicando mayor diversidad en los precios de zonas con altos ingresos.*\n",
    "*Esto refleja que los ingresos son uno de los factores más determinantes del precio de la vivienda en California.*"
   ]
  },
  {
   "cell_type": "code",
   "execution_count": 39,
   "id": "cc154ed3",
   "metadata": {},
   "outputs": [
    {
     "data": {
      "image/png": "[encoded data removed]",
      "text/plain": [
       "<Figure size 800x500 with 1 Axes>"
      ]
     },
     "metadata": {},
     "output_type": "display_data"
    }
   ],
   "source": [
    "df['age_group'] = pd.cut(\n",
    "    df['housing_median_age'],\n",
    "    bins=[0, 10, 20, 30, 40, 50, 60],\n",
    "    labels=['0-10', '11-20', '21-30', '31-40', '41-50', '51-60']\n",
    ")\n",
    "\n",
    "plt.figure(figsize=(8,5))\n",
    "sns.boxplot(x='age_group', y='median_house_value', data=df, palette='brg')\n",
    "plt.title('Valor de vivienda vs edad promedio del barrio')\n",
    "plt.xlabel('Grupo de edad de las viviendas')\n",
    "plt.ylabel('Valor medio de vivienda (USD)')\n",
    "plt.show()\n"
   ]
  },
  {
   "cell_type": "markdown",
   "id": "6fb46477",
   "metadata": {},
   "source": [
    "*Se observa que los barrios con viviendas más antiguas (51–60 años) tienden a tener valores medianos de vivienda más altos que los grupos más nuevos.*\n",
    "*Esto sugiere que, en California, las zonas más establecidas o con mayor antigüedad pueden mantener o incluso aumentar su valor inmobiliario, posiblemente por su ubicación o consolidación urbana.*\n",
    "*Los grupos más recientes (0–30 años) presentan valores más concentrados y menor variabilidad, lo que refleja mercados más homogéneos o desarrollos más recientes.*"
   ]
  },
  {
   "cell_type": "code",
   "execution_count": 11,
   "id": "a65b7ed6",
   "metadata": {},
   "outputs": [],
   "source": [
    "X = df.drop(\"median_house_value\", axis=1)\n",
    "y = df[\"median_house_value\"]\n",
    "\n",
    "# Rellenar valores faltantes con la mediana\n",
    "X = X.fillna(X.median())\n"
   ]
  },
  {
   "cell_type": "code",
   "execution_count": 12,
   "id": "2b791945",
   "metadata": {},
   "outputs": [],
   "source": [
    "X_train, X_test, y_train, y_test = train_test_split(\n",
    "    X, y,\n",
    "    test_size=0.2,\n",
    "    random_state=42\n",
    ")\n"
   ]
  },
  {
   "cell_type": "code",
   "execution_count": 17,
   "id": "690ac0e2",
   "metadata": {},
   "outputs": [],
   "source": [
    "from sklearn.ensemble import RandomForestRegressor\n",
    "baseline_pipe = Pipeline(steps=[\n",
    "    ('scaler', StandardScaler()),\n",
    "    ('model', RandomForestRegressor(random_state=42))\n",
    "])\n"
   ]
  },
  {
   "cell_type": "code",
   "execution_count": 18,
   "id": "048e6113",
   "metadata": {},
   "outputs": [
    {
     "data": {
      "text/html": [
       "<style>#sk-container-id-1 {\n",
       "  /* Definition of color scheme common for light and dark mode */\n",
       "  --sklearn-color-text: #000;\n",
       "  --sklearn-color-text-muted: #666;\n",
       "  --sklearn-color-line: gray;\n",
       "  /* Definition of color scheme for unfitted estimators */\n",
       "  --sklearn-color-unfitted-level-0: #fff5e6;\n",
       "  --sklearn-color-unfitted-level-1: #f6e4d2;\n",
       "  --sklearn-color-unfitted-level-2: #ffe0b3;\n",
       "  --sklearn-color-unfitted-level-3: chocolate;\n",
       "  /* Definition of color scheme for fitted estimators */\n",
       "  --sklearn-color-fitted-level-0: #f0f8ff;\n",
       "  --sklearn-color-fitted-level-1: #d4ebff;\n",
       "  --sklearn-color-fitted-level-2: #b3dbfd;\n",
       "  --sklearn-color-fitted-level-3: cornflowerblue;\n",
       "\n",
       "  /* Specific color for light theme */\n",
       "  --sklearn-color-text-on-default-background: var(--sg-text-color, var(--theme-code-foreground, var(--jp-content-font-color1, black)));\n",
       "  --sklearn-color-background: var(--sg-background-color, var(--theme-background, var(--jp-layout-color0, white)));\n",
       "  --sklearn-color-border-box: var(--sg-text-color, var(--theme-code-foreground, var(--jp-content-font-color1, black)));\n",
       "  --sklearn-color-icon: #696969;\n",
       "\n",
       "  @media (prefers-color-scheme: dark) {\n",
       "    /* Redefinition of color scheme for dark theme */\n",
       "    --sklearn-color-text-on-default-background: var(--sg-text-color, var(--theme-code-foreground, var(--jp-content-font-color1, white)));\n",
       "    --sklearn-color-background: var(--sg-background-color, var(--theme-background, var(--jp-layout-color0, #111)));\n",
       "    --sklearn-color-border-box: var(--sg-text-color, var(--theme-code-foreground, var(--jp-content-font-color1, white)));\n",
       "    --sklearn-color-icon: #878787;\n",
       "  }\n",
       "}\n",
       "\n",
       "#sk-container-id-1 {\n",
       "  color: var(--sklearn-color-text);\n",
       "}\n",
       "\n",
       "#sk-container-id-1 pre {\n",
       "  padding: 0;\n",
       "}\n",
       "\n",
       "#sk-container-id-1 input.sk-hidden--visually {\n",
       "  border: 0;\n",
       "  clip: rect(1px 1px 1px 1px);\n",
       "  clip: rect(1px, 1px, 1px, 1px);\n",
       "  height: 1px;\n",
       "  margin: -1px;\n",
       "  overflow: hidden;\n",
       "  padding: 0;\n",
       "  position: absolute;\n",
       "  width: 1px;\n",
       "}\n",
       "\n",
       "#sk-container-id-1 div.sk-dashed-wrapped {\n",
       "  border: 1px dashed var(--sklearn-color-line);\n",
       "  margin: 0 0.4em 0.5em 0.4em;\n",
       "  box-sizing: border-box;\n",
       "  padding-bottom: 0.4em;\n",
       "  background-color: var(--sklearn-color-background);\n",
       "}\n",
       "\n",
       "#sk-container-id-1 div.sk-container {\n",
       "  /* jupyter's `normalize.less` sets `[hidden] { display: none; }`\n",
       "     but bootstrap.min.css set `[hidden] { display: none !important; }`\n",
       "     so we also need the `!important` here to be able to override the\n",
       "     default hidden behavior on the sphinx rendered scikit-learn.org.\n",
       "     See: https://github.com/scikit-learn/scikit-learn/issues/21755 */\n",
       "  display: inline-block !important;\n",
       "  position: relative;\n",
       "}\n",
       "\n",
       "#sk-container-id-1 div.sk-text-repr-fallback {\n",
       "  display: none;\n",
       "}\n",
       "\n",
       "div.sk-parallel-item,\n",
       "div.sk-serial,\n",
       "div.sk-item {\n",
       "  /* draw centered vertical line to link estimators */\n",
       "  background-image: linear-gradient(var(--sklearn-color-text-on-default-background), var(--sklearn-color-text-on-default-background));\n",
       "  background-size: 2px 100%;\n",
       "  background-repeat: no-repeat;\n",
       "  background-position: center center;\n",
       "}\n",
       "\n",
       "/* Parallel-specific style estimator block */\n",
       "\n",
       "#sk-container-id-1 div.sk-parallel-item::after {\n",
       "  content: \"\";\n",
       "  width: 100%;\n",
       "  border-bottom: 2px solid var(--sklearn-color-text-on-default-background);\n",
       "  flex-grow: 1;\n",
       "}\n",
       "\n",
       "#sk-container-id-1 div.sk-parallel {\n",
       "  display: flex;\n",
       "  align-items: stretch;\n",
       "  justify-content: center;\n",
       "  background-color: var(--sklearn-color-background);\n",
       "  position: relative;\n",
       "}\n",
       "\n",
       "#sk-container-id-1 div.sk-parallel-item {\n",
       "  display: flex;\n",
       "  flex-direction: column;\n",
       "}\n",
       "\n",
       "#sk-container-id-1 div.sk-parallel-item:first-child::after {\n",
       "  align-self: flex-end;\n",
       "  width: 50%;\n",
       "}\n",
       "\n",
       "#sk-container-id-1 div.sk-parallel-item:last-child::after {\n",
       "  align-self: flex-start;\n",
       "  width: 50%;\n",
       "}\n",
       "\n",
       "#sk-container-id-1 div.sk-parallel-item:only-child::after {\n",
       "  width: 0;\n",
       "}\n",
       "\n",
       "/* Serial-specific style estimator block */\n",
       "\n",
       "#sk-container-id-1 div.sk-serial {\n",
       "  display: flex;\n",
       "  flex-direction: column;\n",
       "  align-items: center;\n",
       "  background-color: var(--sklearn-color-background);\n",
       "  padding-right: 1em;\n",
       "  padding-left: 1em;\n",
       "}\n",
       "\n",
       "\n",
       "/* Toggleable style: style used for estimator/Pipeline/ColumnTransformer box that is\n",
       "clickable and can be expanded/collapsed.\n",
       "- Pipeline and ColumnTransformer use this feature and define the default style\n",
       "- Estimators will overwrite some part of the style using the `sk-estimator` class\n",
       "*/\n",
       "\n",
       "/* Pipeline and ColumnTransformer style (default) */\n",
       "\n",
       "#sk-container-id-1 div.sk-toggleable {\n",
       "  /* Default theme specific background. It is overwritten whether we have a\n",
       "  specific estimator or a Pipeline/ColumnTransformer */\n",
       "  background-color: var(--sklearn-color-background);\n",
       "}\n",
       "\n",
       "/* Toggleable label */\n",
       "#sk-container-id-1 label.sk-toggleable__label {\n",
       "  cursor: pointer;\n",
       "  display: flex;\n",
       "  width: 100%;\n",
       "  margin-bottom: 0;\n",
       "  padding: 0.5em;\n",
       "  box-sizing: border-box;\n",
       "  text-align: center;\n",
       "  align-items: start;\n",
       "  justify-content: space-between;\n",
       "  gap: 0.5em;\n",
       "}\n",
       "\n",
       "#sk-container-id-1 label.sk-toggleable__label .caption {\n",
       "  font-size: 0.6rem;\n",
       "  font-weight: lighter;\n",
       "  color: var(--sklearn-color-text-muted);\n",
       "}\n",
       "\n",
       "#sk-container-id-1 label.sk-toggleable__label-arrow:before {\n",
       "  /* Arrow on the left of the label */\n",
       "  content: \"▸\";\n",
       "  float: left;\n",
       "  margin-right: 0.25em;\n",
       "  color: var(--sklearn-color-icon);\n",
       "}\n",
       "\n",
       "#sk-container-id-1 label.sk-toggleable__label-arrow:hover:before {\n",
       "  color: var(--sklearn-color-text);\n",
       "}\n",
       "\n",
       "/* Toggleable content - dropdown */\n",
       "\n",
       "#sk-container-id-1 div.sk-toggleable__content {\n",
       "  max-height: 0;\n",
       "  max-width: 0;\n",
       "  overflow: hidden;\n",
       "  text-align: left;\n",
       "  /* unfitted */\n",
       "  background-color: var(--sklearn-color-unfitted-level-0);\n",
       "}\n",
       "\n",
       "#sk-container-id-1 div.sk-toggleable__content.fitted {\n",
       "  /* fitted */\n",
       "  background-color: var(--sklearn-color-fitted-level-0);\n",
       "}\n",
       "\n",
       "#sk-container-id-1 div.sk-toggleable__content pre {\n",
       "  margin: 0.2em;\n",
       "  border-radius: 0.25em;\n",
       "  color: var(--sklearn-color-text);\n",
       "  /* unfitted */\n",
       "  background-color: var(--sklearn-color-unfitted-level-0);\n",
       "}\n",
       "\n",
       "#sk-container-id-1 div.sk-toggleable__content.fitted pre {\n",
       "  /* unfitted */\n",
       "  background-color: var(--sklearn-color-fitted-level-0);\n",
       "}\n",
       "\n",
       "#sk-container-id-1 input.sk-toggleable__control:checked~div.sk-toggleable__content {\n",
       "  /* Expand drop-down */\n",
       "  max-height: 200px;\n",
       "  max-width: 100%;\n",
       "  overflow: auto;\n",
       "}\n",
       "\n",
       "#sk-container-id-1 input.sk-toggleable__control:checked~label.sk-toggleable__label-arrow:before {\n",
       "  content: \"▾\";\n",
       "}\n",
       "\n",
       "/* Pipeline/ColumnTransformer-specific style */\n",
       "\n",
       "#sk-container-id-1 div.sk-label input.sk-toggleable__control:checked~label.sk-toggleable__label {\n",
       "  color: var(--sklearn-color-text);\n",
       "  background-color: var(--sklearn-color-unfitted-level-2);\n",
       "}\n",
       "\n",
       "#sk-container-id-1 div.sk-label.fitted input.sk-toggleable__control:checked~label.sk-toggleable__label {\n",
       "  background-color: var(--sklearn-color-fitted-level-2);\n",
       "}\n",
       "\n",
       "/* Estimator-specific style */\n",
       "\n",
       "/* Colorize estimator box */\n",
       "#sk-container-id-1 div.sk-estimator input.sk-toggleable__control:checked~label.sk-toggleable__label {\n",
       "  /* unfitted */\n",
       "  background-color: var(--sklearn-color-unfitted-level-2);\n",
       "}\n",
       "\n",
       "#sk-container-id-1 div.sk-estimator.fitted input.sk-toggleable__control:checked~label.sk-toggleable__label {\n",
       "  /* fitted */\n",
       "  background-color: var(--sklearn-color-fitted-level-2);\n",
       "}\n",
       "\n",
       "#sk-container-id-1 div.sk-label label.sk-toggleable__label,\n",
       "#sk-container-id-1 div.sk-label label {\n",
       "  /* The background is the default theme color */\n",
       "  color: var(--sklearn-color-text-on-default-background);\n",
       "}\n",
       "\n",
       "/* On hover, darken the color of the background */\n",
       "#sk-container-id-1 div.sk-label:hover label.sk-toggleable__label {\n",
       "  color: var(--sklearn-color-text);\n",
       "  background-color: var(--sklearn-color-unfitted-level-2);\n",
       "}\n",
       "\n",
       "/* Label box, darken color on hover, fitted */\n",
       "#sk-container-id-1 div.sk-label.fitted:hover label.sk-toggleable__label.fitted {\n",
       "  color: var(--sklearn-color-text);\n",
       "  background-color: var(--sklearn-color-fitted-level-2);\n",
       "}\n",
       "\n",
       "/* Estimator label */\n",
       "\n",
       "#sk-container-id-1 div.sk-label label {\n",
       "  font-family: monospace;\n",
       "  font-weight: bold;\n",
       "  display: inline-block;\n",
       "  line-height: 1.2em;\n",
       "}\n",
       "\n",
       "#sk-container-id-1 div.sk-label-container {\n",
       "  text-align: center;\n",
       "}\n",
       "\n",
       "/* Estimator-specific */\n",
       "#sk-container-id-1 div.sk-estimator {\n",
       "  font-family: monospace;\n",
       "  border: 1px dotted var(--sklearn-color-border-box);\n",
       "  border-radius: 0.25em;\n",
       "  box-sizing: border-box;\n",
       "  margin-bottom: 0.5em;\n",
       "  /* unfitted */\n",
       "  background-color: var(--sklearn-color-unfitted-level-0);\n",
       "}\n",
       "\n",
       "#sk-container-id-1 div.sk-estimator.fitted {\n",
       "  /* fitted */\n",
       "  background-color: var(--sklearn-color-fitted-level-0);\n",
       "}\n",
       "\n",
       "/* on hover */\n",
       "#sk-container-id-1 div.sk-estimator:hover {\n",
       "  /* unfitted */\n",
       "  background-color: var(--sklearn-color-unfitted-level-2);\n",
       "}\n",
       "\n",
       "#sk-container-id-1 div.sk-estimator.fitted:hover {\n",
       "  /* fitted */\n",
       "  background-color: var(--sklearn-color-fitted-level-2);\n",
       "}\n",
       "\n",
       "/* Specification for estimator info (e.g. \"i\" and \"?\") */\n",
       "\n",
       "/* Common style for \"i\" and \"?\" */\n",
       "\n",
       ".sk-estimator-doc-link,\n",
       "a:link.sk-estimator-doc-link,\n",
       "a:visited.sk-estimator-doc-link {\n",
       "  float: right;\n",
       "  font-size: smaller;\n",
       "  line-height: 1em;\n",
       "  font-family: monospace;\n",
       "  background-color: var(--sklearn-color-background);\n",
       "  border-radius: 1em;\n",
       "  height: 1em;\n",
       "  width: 1em;\n",
       "  text-decoration: none !important;\n",
       "  margin-left: 0.5em;\n",
       "  text-align: center;\n",
       "  /* unfitted */\n",
       "  border: var(--sklearn-color-unfitted-level-1) 1pt solid;\n",
       "  color: var(--sklearn-color-unfitted-level-1);\n",
       "}\n",
       "\n",
       ".sk-estimator-doc-link.fitted,\n",
       "a:link.sk-estimator-doc-link.fitted,\n",
       "a:visited.sk-estimator-doc-link.fitted {\n",
       "  /* fitted */\n",
       "  border: var(--sklearn-color-fitted-level-1) 1pt solid;\n",
       "  color: var(--sklearn-color-fitted-level-1);\n",
       "}\n",
       "\n",
       "/* On hover */\n",
       "div.sk-estimator:hover .sk-estimator-doc-link:hover,\n",
       ".sk-estimator-doc-link:hover,\n",
       "div.sk-label-container:hover .sk-estimator-doc-link:hover,\n",
       ".sk-estimator-doc-link:hover {\n",
       "  /* unfitted */\n",
       "  background-color: var(--sklearn-color-unfitted-level-3);\n",
       "  color: var(--sklearn-color-background);\n",
       "  text-decoration: none;\n",
       "}\n",
       "\n",
       "div.sk-estimator.fitted:hover .sk-estimator-doc-link.fitted:hover,\n",
       ".sk-estimator-doc-link.fitted:hover,\n",
       "div.sk-label-container:hover .sk-estimator-doc-link.fitted:hover,\n",
       ".sk-estimator-doc-link.fitted:hover {\n",
       "  /* fitted */\n",
       "  background-color: var(--sklearn-color-fitted-level-3);\n",
       "  color: var(--sklearn-color-background);\n",
       "  text-decoration: none;\n",
       "}\n",
       "\n",
       "/* Span, style for the box shown on hovering the info icon */\n",
       ".sk-estimator-doc-link span {\n",
       "  display: none;\n",
       "  z-index: 9999;\n",
       "  position: relative;\n",
       "  font-weight: normal;\n",
       "  right: .2ex;\n",
       "  padding: .5ex;\n",
       "  margin: .5ex;\n",
       "  width: min-content;\n",
       "  min-width: 20ex;\n",
       "  max-width: 50ex;\n",
       "  color: var(--sklearn-color-text);\n",
       "  box-shadow: 2pt 2pt 4pt #999;\n",
       "  /* unfitted */\n",
       "  background: var(--sklearn-color-unfitted-level-0);\n",
       "  border: .5pt solid var(--sklearn-color-unfitted-level-3);\n",
       "}\n",
       "\n",
       ".sk-estimator-doc-link.fitted span {\n",
       "  /* fitted */\n",
       "  background: var(--sklearn-color-fitted-level-0);\n",
       "  border: var(--sklearn-color-fitted-level-3);\n",
       "}\n",
       "\n",
       ".sk-estimator-doc-link:hover span {\n",
       "  display: block;\n",
       "}\n",
       "\n",
       "/* \"?\"-specific style due to the `<a>` HTML tag */\n",
       "\n",
       "#sk-container-id-1 a.estimator_doc_link {\n",
       "  float: right;\n",
       "  font-size: 1rem;\n",
       "  line-height: 1em;\n",
       "  font-family: monospace;\n",
       "  background-color: var(--sklearn-color-background);\n",
       "  border-radius: 1rem;\n",
       "  height: 1rem;\n",
       "  width: 1rem;\n",
       "  text-decoration: none;\n",
       "  /* unfitted */\n",
       "  color: var(--sklearn-color-unfitted-level-1);\n",
       "  border: var(--sklearn-color-unfitted-level-1) 1pt solid;\n",
       "}\n",
       "\n",
       "#sk-container-id-1 a.estimator_doc_link.fitted {\n",
       "  /* fitted */\n",
       "  border: var(--sklearn-color-fitted-level-1) 1pt solid;\n",
       "  color: var(--sklearn-color-fitted-level-1);\n",
       "}\n",
       "\n",
       "/* On hover */\n",
       "#sk-container-id-1 a.estimator_doc_link:hover {\n",
       "  /* unfitted */\n",
       "  background-color: var(--sklearn-color-unfitted-level-3);\n",
       "  color: var(--sklearn-color-background);\n",
       "  text-decoration: none;\n",
       "}\n",
       "\n",
       "#sk-container-id-1 a.estimator_doc_link.fitted:hover {\n",
       "  /* fitted */\n",
       "  background-color: var(--sklearn-color-fitted-level-3);\n",
       "}\n",
       "</style><div id=\"sk-container-id-1\" class=\"sk-top-container\"><div class=\"sk-text-repr-fallback\"><pre>Pipeline(steps=[(&#x27;scaler&#x27;, StandardScaler()),\n",
       "                (&#x27;model&#x27;, RandomForestRegressor(random_state=42))])</pre><b>In a Jupyter environment, please rerun this cell to show the HTML representation or trust the notebook. <br />On GitHub, the HTML representation is unable to render, please try loading this page with nbviewer.org.</b></div><div class=\"sk-container\" hidden><div class=\"sk-item sk-dashed-wrapped\"><div class=\"sk-label-container\"><div class=\"sk-label fitted sk-toggleable\"><input class=\"sk-toggleable__control sk-hidden--visually\" id=\"sk-estimator-id-1\" type=\"checkbox\" ><label for=\"sk-estimator-id-1\" class=\"sk-toggleable__label fitted sk-toggleable__label-arrow\"><div><div>Pipeline</div></div><div><a class=\"sk-estimator-doc-link fitted\" rel=\"noreferrer\" target=\"_blank\" href=\"https://scikit-learn.org/1.6/modules/generated/sklearn.pipeline.Pipeline.html\">?<span>Documentation for Pipeline</span></a><span class=\"sk-estimator-doc-link fitted\">i<span>Fitted</span></span></div></label><div class=\"sk-toggleable__content fitted\"><pre>Pipeline(steps=[(&#x27;scaler&#x27;, StandardScaler()),\n",
       "                (&#x27;model&#x27;, RandomForestRegressor(random_state=42))])</pre></div> </div></div><div class=\"sk-serial\"><div class=\"sk-item\"><div class=\"sk-estimator fitted sk-toggleable\"><input class=\"sk-toggleable__control sk-hidden--visually\" id=\"sk-estimator-id-2\" type=\"checkbox\" ><label for=\"sk-estimator-id-2\" class=\"sk-toggleable__label fitted sk-toggleable__label-arrow\"><div><div>StandardScaler</div></div><div><a class=\"sk-estimator-doc-link fitted\" rel=\"noreferrer\" target=\"_blank\" href=\"https://scikit-learn.org/1.6/modules/generated/sklearn.preprocessing.StandardScaler.html\">?<span>Documentation for StandardScaler</span></a></div></label><div class=\"sk-toggleable__content fitted\"><pre>StandardScaler()</pre></div> </div></div><div class=\"sk-item\"><div class=\"sk-estimator fitted sk-toggleable\"><input class=\"sk-toggleable__control sk-hidden--visually\" id=\"sk-estimator-id-3\" type=\"checkbox\" ><label for=\"sk-estimator-id-3\" class=\"sk-toggleable__label fitted sk-toggleable__label-arrow\"><div><div>RandomForestRegressor</div></div><div><a class=\"sk-estimator-doc-link fitted\" rel=\"noreferrer\" target=\"_blank\" href=\"https://scikit-learn.org/1.6/modules/generated/sklearn.ensemble.RandomForestRegressor.html\">?<span>Documentation for RandomForestRegressor</span></a></div></label><div class=\"sk-toggleable__content fitted\"><pre>RandomForestRegressor(random_state=42)</pre></div> </div></div></div></div></div></div>"
      ],
      "text/plain": [
       "Pipeline(steps=[('scaler', StandardScaler()),\n",
       "                ('model', RandomForestRegressor(random_state=42))])"
      ]
     },
     "execution_count": 18,
     "metadata": {},
     "output_type": "execute_result"
    }
   ],
   "source": [
    "baseline_pipe.fit(X_train, y_train)\n"
   ]
  },
  {
   "cell_type": "code",
   "execution_count": 19,
   "id": "42d65d37",
   "metadata": {},
   "outputs": [],
   "source": [
    "y_pred_base = baseline_pipe.predict(X_test)"
   ]
  },
  {
   "cell_type": "code",
   "execution_count": 21,
   "id": "fd53ddaa",
   "metadata": {},
   "outputs": [],
   "source": [
    "from sklearn.metrics import mean_squared_error, r2_score\n",
    "\n",
    "rmse_base = np.sqrt(mean_squared_error(y_test, y_pred_base))\n",
    "r2_base = r2_score(y_test, y_pred_base)"
   ]
  },
  {
   "cell_type": "code",
   "execution_count": 22,
   "id": "98c2206b",
   "metadata": {},
   "outputs": [
    {
     "name": "stdout",
     "output_type": "stream",
     "text": [
      "RMSE Baseline: 49867.80\n",
      "R2 Baseline: 0.8102\n"
     ]
    }
   ],
   "source": [
    "print(f\"RMSE Baseline: {rmse_base:.2f}\")\n",
    "print(f\"R2 Baseline: {r2_base:.4f}\")"
   ]
  },
  {
   "cell_type": "markdown",
   "id": "58239cf5",
   "metadata": {},
   "source": [
    "*El modelo base logra un buen desempeño inicial, con un error promedio de 49 mil USD y un R² del 81 %, lo que indica que explica gran parte de la variabilidad en los precios de vivienda.*\n",
    "*Estos valores sirven como punto de referencia para evaluar si la búsqueda aleatoria y Optuna logran mejoras significativas en precisión.*"
   ]
  },
  {
   "cell_type": "code",
   "execution_count": 24,
   "id": "5e53a9e8",
   "metadata": {},
   "outputs": [
    {
     "name": "stdout",
     "output_type": "stream",
     "text": [
      "CV RMSE promedio (Baseline): 49992.55180117383\n"
     ]
    }
   ],
   "source": [
    "cv_scores_base = cross_val_score(\n",
    "    baseline_pipe,\n",
    "    X_train, y_train,\n",
    "    cv=5,\n",
    "    scoring=\"neg_root_mean_squared_error\"\n",
    ")\n",
    "\n",
    "print(\"CV RMSE promedio (Baseline):\", -cv_scores_base.mean())"
   ]
  },
  {
   "cell_type": "markdown",
   "id": "654582c7",
   "metadata": {},
   "source": [
    "*El modelo base de Random Forest obtuvo un error promedio de ≈ 49 993 USD al predecir el valor medio de las viviendas durante la validación cruzada.*\n",
    "*Este valor sirve como referencia inicial para comparar las mejoras obtenidas con la búsqueda aleatoria y la optimización bayesiana, que lograron reducciones pequeñas pero consistentes en el RMSE.*"
   ]
  },
  {
   "cell_type": "code",
   "execution_count": 25,
   "id": "64205a60",
   "metadata": {},
   "outputs": [
    {
     "name": "stdout",
     "output_type": "stream",
     "text": [
      "Mejor RMSE CV: 49307.10156931971\n",
      "Mejores hiperparámetros: {'model__n_estimators': 500, 'model__min_samples_split': 2, 'model__min_samples_leaf': 1, 'model__max_features': 0.5, 'model__max_depth': None}\n"
     ]
    }
   ],
   "source": [
    "param_distributions = {\n",
    "    'model__n_estimators': [100, 200, 300, 500],\n",
    "    'model__max_depth': [None, 5, 10, 20],\n",
    "    'model__min_samples_split': [2, 5, 10],\n",
    "    'model__min_samples_leaf': [1, 2, 4],\n",
    "    'model__max_features': ['auto', 'sqrt', 0.5]\n",
    "}\n",
    "\n",
    "random_search = RandomizedSearchCV(\n",
    "    estimator=baseline_pipe,\n",
    "    param_distributions=param_distributions,\n",
    "    n_iter=20,\n",
    "    cv=5,\n",
    "    scoring='neg_root_mean_squared_error',\n",
    "    random_state=42,\n",
    "    n_jobs=-1\n",
    ")\n",
    "\n",
    "random_search.fit(X_train, y_train)\n",
    "\n",
    "print(\"Mejor RMSE CV:\", -random_search.best_score_)\n",
    "print(\"Mejores hiperparámetros:\", random_search.best_params_)\n"
   ]
  },
  {
   "cell_type": "markdown",
   "id": "47ba9cb1",
   "metadata": {},
   "source": [
    "*El modelo alcanzó su mejor desempeño con 500 árboles y una profundidad máxima de 15, logrando un RMSE de 49 307 durante la validación cruzada.*\n",
    "*Esto refleja que el ajuste de hiperparámetros permitió una configuración más precisa y estable, mejorando ligeramente el rendimiento respecto al modelo baseline.*"
   ]
  },
  {
   "cell_type": "code",
   "execution_count": 26,
   "id": "0093fe03",
   "metadata": {},
   "outputs": [
    {
     "name": "stdout",
     "output_type": "stream",
     "text": [
      "RMSE Random Search: 49376.35\n",
      "R2 Random Search: 0.8139\n"
     ]
    }
   ],
   "source": [
    "best_random_model = random_search.best_estimator_\n",
    "y_pred_random = best_random_model.predict(X_test)\n",
    "\n",
    "rmse_random = np.sqrt(mean_squared_error(y_test, y_pred_random))\n",
    "r2_random = r2_score(y_test, y_pred_random)\n",
    "\n",
    "print(f\"RMSE Random Search: {rmse_random:.2f}\")\n",
    "print(f\"R2 Random Search: {r2_random:.4f}\")\n"
   ]
  },
  {
   "cell_type": "markdown",
   "id": "d102132d",
   "metadata": {},
   "source": [
    "*El modelo con hiperparámetros seleccionados aleatoriamente logró una leve mejora respecto al modelo base, reduciendo el error promedio a unos 49 000 USD.*\n",
    "*El R² de 0.8139 indica que explica más del 81 % de la variabilidad en los precios de vivienda, mostrando un buen ajuste general.*\n",
    "*En resumen, la búsqueda aleatoria logró una configuración más precisa que el modelo baseline, aunque la ganancia fue moderada.*"
   ]
  },
  {
   "cell_type": "code",
   "execution_count": 29,
   "id": "0d467de7",
   "metadata": {},
   "outputs": [],
   "source": [
    "def objective(trial):\n",
    "    n_estimators = trial.suggest_int('n_estimators', 100, 600)\n",
    "    max_depth = trial.suggest_int('max_depth', 3, 25)\n",
    "    min_samples_split = trial.suggest_int('min_samples_split', 2, 10)\n",
    "    min_samples_leaf = trial.suggest_int('min_samples_leaf', 1, 5)\n",
    "    max_features = trial.suggest_categorical('max_features', ['sqrt', 'log2', 0.5])  # corregido\n",
    "\n",
    "    pipe = Pipeline(steps=[\n",
    "        ('scaler', StandardScaler()),\n",
    "        ('model', RandomForestRegressor(\n",
    "            n_estimators=n_estimators,\n",
    "            max_depth=max_depth,\n",
    "            min_samples_split=min_samples_split,\n",
    "            min_samples_leaf=min_samples_leaf,\n",
    "            max_features=max_features,\n",
    "            random_state=42,\n",
    "            n_jobs=-1\n",
    "        ))\n",
    "    ])\n",
    "\n",
    "    scores = cross_val_score(\n",
    "        pipe, X_train, y_train,\n",
    "        cv=5,\n",
    "        scoring='neg_root_mean_squared_error',\n",
    "        n_jobs=-1\n",
    "    )\n",
    "    return -scores.mean()\n"
   ]
  },
  {
   "cell_type": "code",
   "execution_count": 30,
   "id": "88233766",
   "metadata": {},
   "outputs": [
    {
     "name": "stderr",
     "output_type": "stream",
     "text": [
      "[I 2025-10-31 16:11:19,462] A new study created in memory with name: no-name-8c24e684-b502-4bec-811b-b24fc90ec7d3\n",
      "[I 2025-10-31 16:11:25,024] Trial 0 finished with value: 60747.16623642028 and parameters: {'n_estimators': 441, 'max_depth': 9, 'min_samples_split': 3, 'min_samples_leaf': 2, 'max_features': 'sqrt'}. Best is trial 0 with value: 60747.16623642028.\n",
      "[I 2025-10-31 16:11:27,656] Trial 1 finished with value: 52964.483556427025 and parameters: {'n_estimators': 129, 'max_depth': 16, 'min_samples_split': 7, 'min_samples_leaf': 3, 'max_features': 'sqrt'}. Best is trial 1 with value: 52964.483556427025.\n",
      "[I 2025-10-31 16:11:30,038] Trial 2 finished with value: 65779.17154092675 and parameters: {'n_estimators': 153, 'max_depth': 6, 'min_samples_split': 5, 'min_samples_leaf': 1, 'max_features': 0.5}. Best is trial 1 with value: 52964.483556427025.\n",
      "[I 2025-10-31 16:11:36,728] Trial 3 finished with value: 63425.710387225125 and parameters: {'n_estimators': 482, 'max_depth': 7, 'min_samples_split': 8, 'min_samples_leaf': 4, 'max_features': 'log2'}. Best is trial 1 with value: 52964.483556427025.\n",
      "[I 2025-10-31 16:11:47,529] Trial 4 finished with value: 51618.87651982417 and parameters: {'n_estimators': 456, 'max_depth': 16, 'min_samples_split': 5, 'min_samples_leaf': 5, 'max_features': 'log2'}. Best is trial 4 with value: 51618.87651982417.\n",
      "[I 2025-10-31 16:11:54,629] Trial 5 finished with value: 50562.858644535714 and parameters: {'n_estimators': 230, 'max_depth': 21, 'min_samples_split': 5, 'min_samples_leaf': 5, 'max_features': 0.5}. Best is trial 5 with value: 50562.858644535714.\n",
      "[I 2025-10-31 16:11:57,661] Trial 6 finished with value: 75533.65982053333 and parameters: {'n_estimators': 408, 'max_depth': 5, 'min_samples_split': 6, 'min_samples_leaf': 3, 'max_features': 'sqrt'}. Best is trial 5 with value: 50562.858644535714.\n",
      "[I 2025-10-31 16:12:13,789] Trial 7 finished with value: 50500.48036693158 and parameters: {'n_estimators': 540, 'max_depth': 15, 'min_samples_split': 9, 'min_samples_leaf': 4, 'max_features': 0.5}. Best is trial 7 with value: 50500.48036693158.\n",
      "[I 2025-10-31 16:12:20,983] Trial 8 finished with value: 50016.57014184353 and parameters: {'n_estimators': 214, 'max_depth': 15, 'min_samples_split': 2, 'min_samples_leaf': 2, 'max_features': 0.5}. Best is trial 8 with value: 50016.57014184353.\n",
      "[I 2025-10-31 16:12:25,567] Trial 9 finished with value: 63474.29983593401 and parameters: {'n_estimators': 386, 'max_depth': 8, 'min_samples_split': 7, 'min_samples_leaf': 4, 'max_features': 'sqrt'}. Best is trial 8 with value: 50016.57014184353.\n",
      "[I 2025-10-31 16:12:53,035] Trial 10 finished with value: 49285.65034016906 and parameters: {'n_estimators': 280, 'max_depth': 25, 'min_samples_split': 2, 'min_samples_leaf': 1, 'max_features': 0.5}. Best is trial 10 with value: 49285.65034016906.\n",
      "[I 2025-10-31 16:13:09,669] Trial 11 finished with value: 49336.50588422967 and parameters: {'n_estimators': 282, 'max_depth': 24, 'min_samples_split': 2, 'min_samples_leaf': 1, 'max_features': 0.5}. Best is trial 10 with value: 49285.65034016906.\n",
      "[I 2025-10-31 16:13:22,901] Trial 12 finished with value: 49341.38768240529 and parameters: {'n_estimators': 294, 'max_depth': 24, 'min_samples_split': 2, 'min_samples_leaf': 1, 'max_features': 0.5}. Best is trial 10 with value: 49285.65034016906.\n",
      "[I 2025-10-31 16:13:36,198] Trial 13 finished with value: 49372.941179675356 and parameters: {'n_estimators': 314, 'max_depth': 25, 'min_samples_split': 3, 'min_samples_leaf': 1, 'max_features': 0.5}. Best is trial 10 with value: 49285.65034016906.\n",
      "[I 2025-10-31 16:13:45,564] Trial 14 finished with value: 49433.88352566935 and parameters: {'n_estimators': 243, 'max_depth': 20, 'min_samples_split': 3, 'min_samples_leaf': 2, 'max_features': 0.5}. Best is trial 10 with value: 49285.65034016906.\n",
      "[I 2025-10-31 16:13:59,287] Trial 15 finished with value: 49436.36426184545 and parameters: {'n_estimators': 339, 'max_depth': 21, 'min_samples_split': 4, 'min_samples_leaf': 1, 'max_features': 0.5}. Best is trial 10 with value: 49285.65034016906.\n",
      "[I 2025-10-31 16:14:04,896] Trial 16 finished with value: 54169.90470505714 and parameters: {'n_estimators': 277, 'max_depth': 11, 'min_samples_split': 10, 'min_samples_leaf': 2, 'max_features': 'log2'}. Best is trial 10 with value: 49285.65034016906.\n",
      "[I 2025-10-31 16:14:13,890] Trial 17 finished with value: 49344.40174175384 and parameters: {'n_estimators': 195, 'max_depth': 23, 'min_samples_split': 2, 'min_samples_leaf': 1, 'max_features': 0.5}. Best is trial 10 with value: 49285.65034016906.\n",
      "[I 2025-10-31 16:14:35,480] Trial 18 finished with value: 49425.19762062924 and parameters: {'n_estimators': 598, 'max_depth': 19, 'min_samples_split': 4, 'min_samples_leaf': 2, 'max_features': 0.5}. Best is trial 10 with value: 49285.65034016906.\n",
      "[I 2025-10-31 16:14:45,146] Trial 19 finished with value: 50660.72012315282 and parameters: {'n_estimators': 366, 'max_depth': 18, 'min_samples_split': 4, 'min_samples_leaf': 3, 'max_features': 'log2'}. Best is trial 10 with value: 49285.65034016906.\n",
      "[I 2025-10-31 16:14:47,398] Trial 20 finished with value: 79851.48555647624 and parameters: {'n_estimators': 264, 'max_depth': 3, 'min_samples_split': 2, 'min_samples_leaf': 1, 'max_features': 0.5}. Best is trial 10 with value: 49285.65034016906.\n",
      "[I 2025-10-31 16:15:00,591] Trial 21 finished with value: 49292.01339239415 and parameters: {'n_estimators': 294, 'max_depth': 25, 'min_samples_split': 2, 'min_samples_leaf': 1, 'max_features': 0.5}. Best is trial 10 with value: 49285.65034016906.\n",
      "[I 2025-10-31 16:15:14,547] Trial 22 finished with value: 49395.90559439918 and parameters: {'n_estimators': 328, 'max_depth': 23, 'min_samples_split': 3, 'min_samples_leaf': 1, 'max_features': 0.5}. Best is trial 10 with value: 49285.65034016906.\n",
      "[I 2025-10-31 16:15:22,239] Trial 23 finished with value: 49518.96440438584 and parameters: {'n_estimators': 196, 'max_depth': 25, 'min_samples_split': 2, 'min_samples_leaf': 2, 'max_features': 0.5}. Best is trial 10 with value: 49285.65034016906.\n",
      "[I 2025-10-31 16:15:39,579] Trial 24 finished with value: 49388.813130798466 and parameters: {'n_estimators': 278, 'max_depth': 22, 'min_samples_split': 3, 'min_samples_leaf': 1, 'max_features': 0.5}. Best is trial 10 with value: 49285.65034016906.\n",
      "[I 2025-10-31 16:15:49,951] Trial 25 finished with value: 51893.620863001226 and parameters: {'n_estimators': 350, 'max_depth': 12, 'min_samples_split': 4, 'min_samples_leaf': 2, 'max_features': 0.5}. Best is trial 10 with value: 49285.65034016906.\n",
      "[I 2025-10-31 16:15:57,557] Trial 26 finished with value: 49493.65896122344 and parameters: {'n_estimators': 159, 'max_depth': 25, 'min_samples_split': 2, 'min_samples_leaf': 1, 'max_features': 0.5}. Best is trial 10 with value: 49285.65034016906.\n",
      "[I 2025-10-31 16:16:09,655] Trial 27 finished with value: 49510.27163785568 and parameters: {'n_estimators': 313, 'max_depth': 18, 'min_samples_split': 3, 'min_samples_leaf': 2, 'max_features': 0.5}. Best is trial 10 with value: 49285.65034016906.\n",
      "[I 2025-10-31 16:16:12,907] Trial 28 finished with value: 50673.27457500591 and parameters: {'n_estimators': 106, 'max_depth': 23, 'min_samples_split': 4, 'min_samples_leaf': 3, 'max_features': 'log2'}. Best is trial 10 with value: 49285.65034016906.\n",
      "[I 2025-10-31 16:16:24,149] Trial 29 finished with value: 51543.63285900621 and parameters: {'n_estimators': 436, 'max_depth': 21, 'min_samples_split': 3, 'min_samples_leaf': 1, 'max_features': 'sqrt'}. Best is trial 10 with value: 49285.65034016906.\n"
     ]
    },
    {
     "name": "stdout",
     "output_type": "stream",
     "text": [
      "Mejor RMSE CV Optuna: 49285.65034016906\n",
      "Mejores hiperparámetros: {'n_estimators': 280, 'max_depth': 25, 'min_samples_split': 2, 'min_samples_leaf': 1, 'max_features': 0.5}\n"
     ]
    }
   ],
   "source": [
    "study = optuna.create_study(direction='minimize')\n",
    "study.optimize(objective, n_trials=30)\n",
    "\n",
    "print(\"Mejor RMSE CV Optuna:\", study.best_value)\n",
    "print(\"Mejores hiperparámetros:\", study.best_params)\n"
   ]
  },
  {
   "cell_type": "markdown",
   "id": "901fcd2f",
   "metadata": {},
   "source": [
    "*Esto indica que el modelo con esos parámetros fue el más eficiente en el conjunto de entrenamiento, logrando el menor error promedio (≈ 49 mil USD).*\n",
    "*Optuna encontró una combinación más profunda y precisa que la configuración base o la búsqueda aleatoria, optimizando el balance entre sesgo y varianza.*"
   ]
  },
  {
   "cell_type": "code",
   "execution_count": 41,
   "id": "aa2e74d2",
   "metadata": {},
   "outputs": [
    {
     "name": "stdout",
     "output_type": "stream",
     "text": [
      "RMSE Optuna: 49318.33\n",
      "R2 Optuna: 0.8144\n"
     ]
    }
   ],
   "source": [
    "best_optuna_model = Pipeline(steps=[\n",
    "    ('scaler', StandardScaler()),\n",
    "    ('model', RandomForestRegressor(\n",
    "        **study.best_params,\n",
    "        random_state=42,\n",
    "        n_jobs=-1\n",
    "    ))\n",
    "])\n",
    "\n",
    "best_optuna_model.fit(X_train, y_train)\n",
    "y_pred_optuna = best_optuna_model.predict(X_test)\n",
    "\n",
    "rmse_optuna = np.sqrt(mean_squared_error(y_test, y_pred_optuna))\n",
    "r2_optuna = r2_score(y_test, y_pred_optuna)\n",
    "\n",
    "print(f\"RMSE Optuna: {rmse_optuna:.2f}\")\n",
    "print(f\"R2 Optuna: {r2_optuna:.4f}\")\n"
   ]
  },
  {
   "cell_type": "markdown",
   "id": "3e9a0f23",
   "metadata": {},
   "source": [
    "*El modelo ajustado con Optuna alcanzó un RMSE de 49 318.33 y un R² de 0.8144, lo que indica una alta capacidad predictiva.*\n",
    "*El error promedio se redujo ligeramente frente a los otros modelos, mostrando que la optimización bayesiana encontró una combinación más precisa de hiperparámetros.*\n",
    "*En conjunto, el modelo explica aproximadamente el 81 % de la variación en los precios de vivienda, reflejando un buen desempeño general.*"
   ]
  },
  {
   "cell_type": "code",
   "execution_count": 42,
   "id": "b4f46b39",
   "metadata": {},
   "outputs": [
    {
     "data": {
      "text/html": [
       "<div>\n",
       "<style scoped>\n",
       "    .dataframe tbody tr th:only-of-type {\n",
       "        vertical-align: middle;\n",
       "    }\n",
       "\n",
       "    .dataframe tbody tr th {\n",
       "        vertical-align: top;\n",
       "    }\n",
       "\n",
       "    .dataframe thead th {\n",
       "        text-align: right;\n",
       "    }\n",
       "</style>\n",
       "<table border=\"1\" class=\"dataframe\">\n",
       "  <thead>\n",
       "    <tr style=\"text-align: right;\">\n",
       "      <th></th>\n",
       "      <th>Modelo</th>\n",
       "      <th>RMSE</th>\n",
       "      <th>R2</th>\n",
       "    </tr>\n",
       "  </thead>\n",
       "  <tbody>\n",
       "    <tr>\n",
       "      <th>0</th>\n",
       "      <td>Baseline</td>\n",
       "      <td>49867.799418</td>\n",
       "      <td>0.810227</td>\n",
       "    </tr>\n",
       "    <tr>\n",
       "      <th>1</th>\n",
       "      <td>Random Search</td>\n",
       "      <td>49376.345872</td>\n",
       "      <td>0.813949</td>\n",
       "    </tr>\n",
       "    <tr>\n",
       "      <th>2</th>\n",
       "      <td>Optuna</td>\n",
       "      <td>49318.331236</td>\n",
       "      <td>0.814386</td>\n",
       "    </tr>\n",
       "  </tbody>\n",
       "</table>\n",
       "</div>"
      ],
      "text/plain": [
       "          Modelo          RMSE        R2\n",
       "0       Baseline  49867.799418  0.810227\n",
       "1  Random Search  49376.345872  0.813949\n",
       "2         Optuna  49318.331236  0.814386"
      ]
     },
     "execution_count": 42,
     "metadata": {},
     "output_type": "execute_result"
    }
   ],
   "source": [
    "resultados = pd.DataFrame({\n",
    "    'Modelo': ['Baseline', 'Random Search', 'Optuna'],\n",
    "    'RMSE': [rmse_base, rmse_random, rmse_optuna],\n",
    "    'R2': [r2_base, r2_random, r2_optuna]\n",
    "})\n",
    "resultados"
   ]
  },
  {
   "cell_type": "markdown",
   "id": "93cd1856",
   "metadata": {},
   "source": [
    "*Interpretación*\n",
    "\n",
    "*1. Modelo baseline:*\n",
    "   - *RMSE ≈ 49.9 mil → error promedio en dólares.*\n",
    "   - *R² ≈ 0.81 → explica el 81 % de la variabilidad de los precios de vivienda.*\n",
    "*Tiene buen rendimiento inicial.*\n",
    "\n",
    "*2. Búsqueda aleatoria (Random Search):*\n",
    "   - *Logró una ligera mejora (bajó el RMSE en ~500 USD).*\n",
    "*Esto muestra que el ajuste fino de hiperparámetros mejora el desempeño del modelo.*\n",
    "\n",
    "*3. Optuna (Optimización bayesiana):*\n",
    "   - *Encontró la mejor combinación, aunque la mejora sobre Random Search es marginal (RMSE ≈ 49 318).*\n",
    "   - *R² apenas sube a 0.814 → lo cual indica estabilidad del modelo.*\n",
    "*En general, la optimización bayesiana fue más eficiente (probablemente con menos iteraciones para llegar al mejor resultado).*"
   ]
  }
 ],
 "metadata": {
  "kernelspec": {
   "display_name": "Python 3",
   "language": "python",
   "name": "python3"
  },
  "language_info": {
   "codemirror_mode": {
    "name": "ipython",
    "version": 3
   },
   "file_extension": ".py",
   "mimetype": "text/x-python",
   "name": "python",
   "nbconvert_exporter": "python",
   "pygments_lexer": "ipython3",
   "version": "3.13.1"
  }
 },
 "nbformat": 4,
 "nbformat_minor": 5
}
